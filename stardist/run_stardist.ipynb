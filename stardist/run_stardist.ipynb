{
 "cells": [
  {
   "cell_type": "markdown",
   "id": "72005c1d",
   "metadata": {},
   "source": [
    "# 3D segmentation of secretory granules with 3D stardist\n",
    "\n",
    "![](../figs/granules.png)\n",
    "\n",
    "\n",
    "\n",
    "This notebook demonstrates how to train a Stardist model to segment secretory granules from 3D FIB-SEM data as described in the paper:\n",
    "\n",
    "*Müller, Andreas, et al. \"3D FIB-SEM reconstruction of microtubule–organelle interaction in whole primary mouse β cells.\" Journal of Cell Biology 220.2 (2021).*\n",
    "\n",
    "\n",
    "For general question regarding those parameters, please see https://github.com/stardist/stardist.\n",
    "\n",
    "1. Install tensorflow with gpu support \n",
    "\n",
    "2. Install stardist and dependencies:\n",
    "\n",
    "    - `pip install stardist tqdm`\n",
    "    - `pip install git+https://github.com/stardist/augmend.git`\n",
    "    \n",
    "3. Download the example data (or adapt your own data into the same format)\n",
    "\n",
    "    - `wget https://syncandshare.desy.de/index.php/s/5SJFRtAckjBg5gx/download/data_granules.zip`\n",
    "    - `unzip data_granules.zip`\n",
    "\n",
    "   which should result in the following folder structure:\n",
    "    ```\n",
    "    data_granules\n",
    "    ├── train\n",
    "    │   ├── images\n",
    "    │   └── masks\n",
    "    └── val\n",
    "        ├── images\n",
    "        └── masks\n",
    "    ```"
   ]
  },
  {
   "cell_type": "code",
   "execution_count": null,
   "id": "ff7b4e76",
   "metadata": {},
   "outputs": [],
   "source": [
    "from scipy.optimize import minimize_scalar\n",
    "from csbdeep.utils.tf import limit_gpu_memory\n",
    "limit_gpu_memory(fraction=0.8, total_memory=12000)\n",
    "from csbdeep.utils import Path, normalize\n",
    "from tifffile import imread\n",
    "from tqdm import tqdm\n",
    "from glob import glob\n",
    "from datetime import datetime\n",
    "import numpy as np\n",
    "from stardist import fill_label_holes, calculate_extents\n",
    "from stardist.models import Config3D, StarDist3D\n",
    "import argparse\n",
    "from pathlib import Path\n",
    "from augmend import BaseTransform\n",
    "from augmend import Augmend, FlipRot90, Elastic, Identity,\\\n",
    "    IntensityScaleShift, AdditiveNoise\n",
    "import os"
   ]
  },
  {
   "cell_type": "code",
   "execution_count": null,
   "id": "eea98c1b",
   "metadata": {},
   "outputs": [],
   "source": [
    "root = Path(\"data_granules\")"
   ]
  },
  {
   "cell_type": "code",
   "execution_count": null,
   "id": "bb420927",
   "metadata": {},
   "outputs": [],
   "source": [
    "def get_data(subfolder=\"train\", n=None, normalize_img=True):\n",
    "    \"\"\" load data from \"\"\"\n",
    "    src =root/subfolder\n",
    "    fx = sorted(tuple((src/\"images\").glob(\"*.tif\")))[:n]\n",
    "    fy = sorted(tuple((src/\"masks\").glob(\"*.tif\")))[:n]\n",
    "\n",
    "    X = tuple(imread(str(f)) for f in tqdm(fx))\n",
    "    Y = tuple(fill_label_holes(imread(str(f))) for f in tqdm(fy))\n",
    "\n",
    "    if normalize_img:\n",
    "        X = tuple(_X.astype(np.float32)/255 for _X in X)\n",
    "\n",
    "    return X, Y"
   ]
  },
  {
   "cell_type": "markdown",
   "id": "6f06b6fd",
   "metadata": {},
   "source": [
    "### Training\n",
    "\n",
    "\n",
    "The following code trains a 3D stardist model for 100 epochs. Properties of the model that might need adjustment (e.g. number of input channels, patch_size, ...) can be set via the `Config3D` object. \n",
    "For general question regarding those parameters, please see https://github.com/stardist/stardist."
   ]
  },
  {
   "cell_type": "code",
   "execution_count": null,
   "id": "e6f7e7e6",
   "metadata": {},
   "outputs": [],
   "source": [
    "X, Y = get_data(\"train\")\n",
    "Xv, Yv = get_data(\"val\")\n",
    "\n",
    "extents = calculate_extents(Y)\n",
    "anisotropy = tuple(np.max(extents) / extents)\n",
    "\n",
    "n_rays = 96\n",
    "grid = (2, 2, 2)\n",
    "\n",
    "print(f\"empirical anisotropy of labeled objects = {anisotropy}\")\n",
    "print(f\"using grid = {grid}\")\n",
    "\n",
    "conf = Config3D(\n",
    "        rays=n_rays,\n",
    "        grid=grid,\n",
    "        anisotropy=anisotropy,\n",
    "        use_gpu=False,\n",
    "        n_channel_in=1,\n",
    "        backbone=\"unet\",\n",
    "        unet_n_depth=3,\n",
    "        train_patch_size=[160, 160, 160],\n",
    "        train_batch_size=1,\n",
    "        train_loss_weights=[1, 0.1],\n",
    "    )\n",
    "print(conf)\n",
    "vars(conf)\n",
    "\n",
    "aug = Augmend()\n",
    "aug.add([FlipRot90(axis=(0, 1, 2)), FlipRot90(axis=(0, 1, 2))])\n",
    "\n",
    "aug.add([Elastic(axis=(0, 1, 2), amount=5, grid=6,\n",
    "                 order=0, use_gpu=True),\n",
    "         Elastic(axis=(0, 1, 2), amount=5, grid=6,\n",
    "                 order=0, use_gpu=True)],\n",
    "        probability=.7)\n",
    "\n",
    "aug.add([AdditiveNoise(sigma=0.05), Identity()], probability=.5)\n",
    "aug.add([IntensityScaleShift(scale=(.8, 1.2), shift=(-.1, .1)),\n",
    "         Identity()], probability=.5)\n",
    "\n",
    "def simple_augmenter(x, y):\n",
    "    return aug([x, y])\n"
   ]
  },
  {
   "cell_type": "markdown",
   "id": "adca2568",
   "metadata": {},
   "source": [
    "The cell below will start the training, during which you can monitor the progress of the model and its losses with tensorboard:\n",
    "\n",
    "`tensorboard --logdir=models`\n"
   ]
  },
  {
   "cell_type": "code",
   "execution_count": null,
   "id": "fa10adae",
   "metadata": {},
   "outputs": [],
   "source": [
    "###############################################################\n",
    "timestamp = datetime.now().strftime(\"%Y_%m_%d-%H_%M_%S\")\n",
    "name = f'{timestamp}_stardist'\n",
    "basedir = 'models'\n",
    "    \n",
    "model = StarDist3D(conf, name=name, basedir=basedir)\n",
    "\n",
    "model.train(X, Y, validation_data=(X, Y),\n",
    "                    augmenter=simple_augmenter,\n",
    "                    epochs=150)\n",
    "\n",
    "model.optimize_thresholds(X, Y, nms_threshs=[0.1,0.2,0.3])"
   ]
  },
  {
   "cell_type": "markdown",
   "id": "63e568f3",
   "metadata": {},
   "source": [
    "### Prediction \n",
    "\n",
    "We now will apply the model to a new stack "
   ]
  },
  {
   "cell_type": "code",
   "execution_count": null,
   "id": "9aef0eb3",
   "metadata": {},
   "outputs": [],
   "source": [
    "def apply(model, x0):\n",
    "    print(\"normalizing...\")\n",
    "    x = x0.astype(np.float32)/255\n",
    "\n",
    "    n_tiles = tuple(int(np.ceil(s/160)) for s in x.shape)\n",
    "\n",
    "    print(f\"using {n_tiles} tiles\")\n",
    "    y, polys = model.predict_instances(x, n_tiles=n_tiles)\n",
    "\n",
    "    rays = polys[\"rays\"]\n",
    "    polys[\"rays_vertices\"] = rays.vertices\n",
    "    polys[\"rays_faces\"] = rays.faces\n",
    "    \n",
    "    return y, polys \n",
    "\n",
    "\n",
    "fname_input = \"...\"\n",
    "outdir = 'output'\n",
    "\n",
    "# load file \n",
    "x0 = imread(fname)\n",
    "\n",
    "# load model and apply it to the stack \n",
    "model = StarDist3D(None, name=name, basedir=basedir)\n",
    "y, polys = apply(model, x0)\n",
    "\n",
    "\n",
    "# save output \n",
    "out = Path(outdir)\n",
    "out.mkdir(exist_ok=True, parents=True)\n",
    "imsave(out/f\"{Path(fname_input).stem}.stardist.tif\", y)\n",
    "np.savez(out/f\"{Path(fname_input).stem}.stardist.npz\", **polys)"
   ]
  }
 ],
 "metadata": {
  "kernelspec": {
   "display_name": "Python 3.9.16 ('stardist')",
   "language": "python",
   "name": "python3"
  },
  "language_info": {
   "codemirror_mode": {
    "name": "ipython",
    "version": 3
   },
   "file_extension": ".py",
   "mimetype": "text/x-python",
   "name": "python",
   "nbconvert_exporter": "python",
   "pygments_lexer": "ipython3",
   "version": "3.9.16"
  },
  "vscode": {
   "interpreter": {
    "hash": "d294beac76f73f9e3c6fc89062fb7a72a6ed632943daee1cb480d30cc4cad69b"
   }
  }
 },
 "nbformat": 4,
 "nbformat_minor": 5
}
