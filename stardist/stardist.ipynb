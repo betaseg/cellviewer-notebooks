{
 "cells": [
  {
   "cell_type": "markdown",
   "id": "72005c1d",
   "metadata": {},
   "source": [
    "# 3D segmentation of secretory granules with 3D stardist\n",
    "\n",
    "![](../figs/granules.png)\n",
    "\n",
    "\n",
    "\n",
    "This notebook demeonstrates how to train a Stardist model to segment secretory granules from 3D FIB-SEM data as described in the paper:\n",
    "\n",
    "*Müller, Andreas, et al. \"3D FIB-SEM reconstruction of microtubule–organelle interaction in whole primary mouse β cells.\" Journal of Cell Biology 220.2 (2021).*\n",
    "\n",
    "\n",
    "For general question regarding those parameters, please see https://github.com/stardist/stardist.\n",
    "\n",
    "1. Install tensorflow with gpu support \n",
    "\n",
    "2. Install stardist and dependencies:\n",
    "\n",
    "    - `pip install stardist`\n",
    "    - `pip install git+https://github.com/stardist/augmend.git`\n",
    "    \n",
    "3. Download train data into "
   ]
  },
  {
   "cell_type": "code",
   "execution_count": 2,
   "id": "ff7b4e76",
   "metadata": {},
   "outputs": [],
   "source": [
    "from csbdeep.utils.tf import limit_gpu_memory\n",
    "from csbdeep.utils import Path, normalize\n",
    "from tifffile import imread\n",
    "from tqdm import tqdm\n",
    "from glob import glob\n",
    "import numpy as np\n",
    "from stardist import fill_label_holes, calculate_extents\n",
    "from stardist.models import Config3D, StarDist3D\n",
    "import argparse\n",
    "from pathlib import Path\n",
    "from augmend import BaseTransform\n",
    "from augmend import Augmend, FlipRot90, Elastic, Identity,\\\n",
    "    IntensityScaleShift, AdditiveNoise\n",
    "import os"
   ]
  },
  {
   "cell_type": "code",
   "execution_count": 3,
   "id": "eea98c1b",
   "metadata": {},
   "outputs": [],
   "source": [
    "root = Path(\"/projects/project-mweigert/stardist_projects/andi/granules/training_fixed\")\n"
   ]
  },
  {
   "cell_type": "code",
   "execution_count": 4,
   "id": "bb420927",
   "metadata": {},
   "outputs": [],
   "source": [
    "def get_data(subfolder=\"train\", n=None, normalize_img=True):\n",
    "    \"\"\" load data from \"\"\"\n",
    "    src =root/subfolder\n",
    "    fx = sorted(tuple((src/\"images\").glob(\"*.tif\")))[:n]\n",
    "    fy = sorted(tuple((src/\"masks\").glob(\"*.tif\")))[:n]\n",
    "\n",
    "    X = tuple(imread(str(f)) for f in tqdm(fx))\n",
    "    Y = tuple(fill_label_holes(imread(str(f))) for f in tqdm(fy))\n",
    "\n",
    "    if normalize_img:\n",
    "        X = tuple(_X.astype(np.float32)/255 for _X in X)\n",
    "\n",
    "    return X, Y"
   ]
  },
  {
   "cell_type": "markdown",
   "id": "6f06b6fd",
   "metadata": {},
   "source": [
    "### Training\n",
    "\n",
    "\n",
    "The following code trains a 3D stardist model for 100 epochs. Properties of the model that might need adjustment (e.g. number of input channels, patch_size, ...) can be set via the `Config3D` object. \n",
    "For general question regarding those parameters, please see https://github.com/stardist/stardist."
   ]
  },
  {
   "cell_type": "code",
   "execution_count": null,
   "id": "e6f7e7e6",
   "metadata": {},
   "outputs": [],
   "source": [
    "X, Y = get_data(\"train\")\n",
    "Xv, Yv = get_data(\"val\")\n",
    "\n",
    "extents = calculate_extents(Y)\n",
    "anisotropy = tuple(np.max(extents) / extents)\n",
    "\n",
    "n_rays = 96\n",
    "grid = (2, 2, 2)\n",
    "\n",
    "print(f\"empirical anisotropy of labeled objects = {anisotropy}\")\n",
    "print(f\"using grid = {grid}\")\n",
    "print(f\"augment    = {args.augment}\")\n",
    "\n",
    "conf = Config3D(\n",
    "        rays=n_rays,\n",
    "        grid=grid,\n",
    "        anisotropy=anisotropy,\n",
    "        use_gpu=False,\n",
    "        n_channel_in=1,\n",
    "        backbone=\"unet\",\n",
    "        unet_n_depth=3,\n",
    "        train_patch_size=[160, 160, 160],\n",
    "        train_batch_size=1,\n",
    "        train_loss_weights=[1, 0.1],\n",
    "        train_epochs=args.epochs\n",
    "    )\n",
    "print(conf)\n",
    "vars(conf)\n",
    "\n",
    "aug = Augmend()\n",
    "aug.add([FlipRot90(axis=(0, 1, 2)), FlipRot90(axis=(0, 1, 2))])\n",
    "\n",
    "aug.add([Elastic(axis=(0, 1, 2), amount=5, grid=6,\n",
    "                 order=0, use_gpu=True),\n",
    "         Elastic(axis=(0, 1, 2), amount=5, grid=6,\n",
    "                 order=0, use_gpu=True)],\n",
    "        probability=.7)\n",
    "\n",
    "aug.add([AdditiveNoise(sigma=0.05), Identity()], probability=.5)\n",
    "aug.add([IntensityScaleShift(scale_range=(.8, 1.2)),\n",
    "         Identity()], probability=.5)\n",
    "\n",
    "def simple_augmenter(x, y):\n",
    "    return aug([x, y])\n",
    "\n",
    "###############################################################\n",
    "name = f'stardist'\n",
    "basedir = 'models'\n",
    "    \n",
    "model = StarDist3D(conf, name=name, basedir=basedir)\n",
    "\n",
    "model.train(X, Y, validation_data=(X, Y),\n",
    "                    augmenter=simple_augmenter,\n",
    "                    epochs=100)\n",
    "\n",
    "model.optimize_thresholds(X, Y, nms_threshs=[0.1,0.2,0.3])"
   ]
  },
  {
   "cell_type": "markdown",
   "id": "63e568f3",
   "metadata": {},
   "source": [
    "### Prediction \n",
    "\n",
    "We now will apply the model to a new stack "
   ]
  },
  {
   "cell_type": "code",
   "execution_count": 5,
   "id": "9aef0eb3",
   "metadata": {},
   "outputs": [
    {
     "ename": "SyntaxError",
     "evalue": "invalid syntax (3234280566.py, line 1)",
     "output_type": "error",
     "traceback": [
      "\u001b[0;36m  File \u001b[0;32m\"/var/folders/g1/m77h0b_d0fs7ymvpdv3l6n4h0000gr/T/ipykernel_38811/3234280566.py\"\u001b[0;36m, line \u001b[0;32m1\u001b[0m\n\u001b[0;31m    def apply(model, x0)\u001b[0m\n\u001b[0m                        ^\u001b[0m\n\u001b[0;31mSyntaxError\u001b[0m\u001b[0;31m:\u001b[0m invalid syntax\n"
     ]
    }
   ],
   "source": [
    "def apply(model, x0):\n",
    "    print(\"normalizing...\")\n",
    "    x = x0.astype(np.float32)/255\n",
    "\n",
    "    n_tiles = tuple(int(np.ceil(s/160)) for s in x.shape)\n",
    "\n",
    "    print(f\"using {n_tiles} tiles\")\n",
    "    y, polys = model.predict_instances(x, n_tiles=n_tiles)                                       verbose=True)\n",
    "\n",
    "    rays = polys[\"rays\"]\n",
    "    polys[\"rays_vertices\"] = rays.vertices\n",
    "    polys[\"rays_faces\"] = rays.faces\n",
    "    \n",
    "    return y, polys \n",
    "\n",
    "\n",
    "fname_input = \"...\"\n",
    "outdir = 'output'\n",
    "\n",
    "# load file \n",
    "x0 = imread(fname)\n",
    "\n",
    "# load model and apply it to the stack \n",
    "model = StarDist3D(None, name=name, basedir=basedir)\n",
    "y, polys = apply(model, x0)\n",
    "\n",
    "\n",
    "# save output \n",
    "out = Path(outdir)\n",
    "out.mkdir(exist_ok=True, parents=True)\n",
    "imsave(out/f\"{Path(fname_input).stem}.stardist.tif\", y)\n",
    "np.savez(out/f\"{Path(fname_input).stem}.stardist.npz\", **polys)"
   ]
  }
 ],
 "metadata": {
  "kernelspec": {
   "display_name": "Python [conda env:stardist]",
   "language": "python",
   "name": "conda-env-stardist-py"
  },
  "language_info": {
   "codemirror_mode": {
    "name": "ipython",
    "version": 3
   },
   "file_extension": ".py",
   "mimetype": "text/x-python",
   "name": "python",
   "nbconvert_exporter": "python",
   "pygments_lexer": "ipython3",
   "version": "3.9.13"
  }
 },
 "nbformat": 4,
 "nbformat_minor": 5
}
